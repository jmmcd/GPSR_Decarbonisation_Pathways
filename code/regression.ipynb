{
 "cells": [
  {
   "cell_type": "markdown",
   "metadata": {},
   "source": [
    "# Regression\n",
    "\n",
    "In this notebook we create many regression models - baselines and GPSR.\n",
    "\n",
    "We generate results files.\n",
    "\n",
    "This notebook requires the output from the data cleaning and data exploration notebooks.\n",
    "\n"
   ]
  },
  {
   "cell_type": "code",
   "execution_count": 2,
   "metadata": {},
   "outputs": [
    {
     "name": "stdout",
     "output_type": "stream",
     "text": [
      "Detected IPython. Loading juliacall extension. See https://juliapy.github.io/PythonCall.jl/stable/compat/#IPython\n"
     ]
    }
   ],
   "source": [
    "import time\n",
    "import numpy as np\n",
    "import pandas as pd\n",
    "import matplotlib.pyplot as plt\n",
    "import seaborn as sns\n",
    "\n",
    "from sklearn.model_selection import train_test_split, cross_val_score, cross_validate\n",
    "from sklearn.linear_model import ElasticNet\n",
    "from sklearn.ensemble import RandomForestRegressor\n",
    "\n",
    "from pysr import PySRRegressor # a SOTA GP SR library\n"
   ]
  },
  {
   "cell_type": "code",
   "execution_count": 3,
   "metadata": {},
   "outputs": [],
   "source": [
    "import matplotlib\n",
    "matplotlib.rcParams['pdf.fonttype'] = 42 # helps produce ACM-compliant figures\n",
    "matplotlib.rcParams['ps.fonttype'] = 42"
   ]
  },
  {
   "cell_type": "code",
   "execution_count": 4,
   "metadata": {},
   "outputs": [],
   "source": [
    "Xy = pd.read_csv(\"../outputs/data_Xy.csv\", index_col=0)\n",
    "Xy_clim_sens_filter = pd.read_csv(\"../outputs/data_Xy_clim_sens_filter.csv\", index_col=0)"
   ]
  },
  {
   "cell_type": "code",
   "execution_count": 5,
   "metadata": {},
   "outputs": [
    {
     "data": {
      "text/plain": [
       "Index(['Scenario', 'SOW', 'Temp_Limit', 'Delay', 'GDP', 'Pop',\n",
       "       'Other_ESD_Drivers', 'SDR', 'Elast_ESD_Driver', 'Elast_ESD_Price',\n",
       "       'CO2_Storage_Poten', 'Wind_Poten', 'Solar_Poten', 'Biomass_Poten',\n",
       "       'Oil_Gas_Poten', 'Solar_PV_Inv_Cost', 'Wind_Inv_Cost',\n",
       "       'Bioenergy_CCS_Inv_Cost', 'Other_Tech_Cost', 'Forcing', 'Land_Sinks',\n",
       "       'Clim_Sens', 'Year', 'Temp_Change', 'Rad_Forcing', 'CO2_Conc',\n",
       "       'CH4_Conc', 'N20_Conc', 'Carbon', 'CO2eq', 'Marg_CO2_Cost', 'GSupply',\n",
       "       'GSupply_Bioenergy', 'GSupply_Fossil', 'GSupply_Geothermal',\n",
       "       'GSupply_Nuclear', 'GSupply_Solar', 'GSupply_Tidal_Waves',\n",
       "       'GSupply_Wind', 'GConsumption', 'GConsumption_Fossil',\n",
       "       'GConsumption_Nuclear', 'GConsumption_Renewable', 'GCost'],\n",
       "      dtype='object')"
      ]
     },
     "execution_count": 5,
     "metadata": {},
     "output_type": "execute_result"
    }
   ],
   "source": [
    "Xy.columns"
   ]
  },
  {
   "cell_type": "markdown",
   "metadata": {},
   "source": [
    "## Experimental Design\n",
    "\n",
    "We try several target variables (ie dependent variable), several subsets of independent variables, several regression models. \n",
    "\n",
    "## Cross-validation\n",
    "\n",
    "In preliminary experiments we see large differences in performance according to train-test split - therefore, we use a 5-fold cross-validation.\n",
    "\n",
    "## Reporting\n",
    "\n",
    "For each of those 5 folds, we report the train $R^2$ and test $R^2$."
   ]
  },
  {
   "cell_type": "code",
   "execution_count": 6,
   "metadata": {},
   "outputs": [],
   "source": [
    "# We have two sets of variables, 'small' and 'all'\n",
    "# For each, we have a variant which includes the scenario-encoding variables (_inc_enc)\n",
    "# and a variant which excludes them.\n",
    "# The idea is to compare a small versus a large subset for each scenario.\n",
    "# And then as an alternative, put all the scenarios together, with the scenario-encoding\n",
    "# variables included, and compare small versus large.\n",
    "xvar_subsets = {\n",
    "    'small': ['SDR', 'Clim_Sens', 'Pop', 'GDP'],\n",
    "    'small_inc_enc': ['Temp_Limit', 'Delay', 'SDR', 'Clim_Sens', 'Pop', 'GDP'],\n",
    "    'all': ['GDP', 'Pop',\n",
    "       'Other_ESD_Drivers', 'SDR', 'Elast_ESD_Driver', 'Elast_ESD_Price',\n",
    "       'CO2_Storage_Poten', 'Wind_Poten', 'Solar_Poten', 'Biomass_Poten',\n",
    "       'Oil_Gas_Poten', 'Solar_PV_Inv_Cost', 'Wind_Inv_Cost',\n",
    "       'Bioenergy_CCS_Inv_Cost', 'Other_Tech_Cost', 'Forcing', 'Land_Sinks',\n",
    "       'Clim_Sens'],\n",
    "    'all_inc_enc': ['Temp_Limit', 'Delay', 'GDP', 'Pop',\n",
    "       'Other_ESD_Drivers', 'SDR', 'Elast_ESD_Driver', 'Elast_ESD_Price',\n",
    "       'CO2_Storage_Poten', 'Wind_Poten', 'Solar_Poten', 'Biomass_Poten',\n",
    "       'Oil_Gas_Poten', 'Solar_PV_Inv_Cost', 'Wind_Inv_Cost',\n",
    "       'Bioenergy_CCS_Inv_Cost', 'Other_Tech_Cost', 'Forcing', 'Land_Sinks',\n",
    "       'Clim_Sens']\n",
    "}\n",
    "\n",
    "scenarios = ['BASE_SSP2', '1p5c_OS_SSP2', '2C_SSP2', '2C_SSP2_DA30', 'ALL']\n",
    "\n",
    "targets = ['GSupply', 'CO2eq', 'GConsumption', 'GCost'] # cannot do marginal CO2 as it's all-NaNs at 2050\n"
   ]
  },
  {
   "cell_type": "code",
   "execution_count": 21,
   "metadata": {},
   "outputs": [],
   "source": [
    "def run_everything(Xy, cv=5):\n",
    "\n",
    "    results = [] \n",
    "\n",
    "    for target in targets:\n",
    "        for scenario in scenarios:\n",
    "            if scenario == 'ALL':\n",
    "                Xy_sub = Xy\n",
    "            else:\n",
    "                Xy_sub = Xy[Xy['Scenario'] == scenario]\n",
    "            for xvar_subset_code in xvar_subsets:\n",
    "\n",
    "                # for the 'ALL' scenario, run only if we have _inc_enc\n",
    "                if scenario == 'ALL' and (not \"_inc_enc\" in xvar_subset_code): continue\n",
    "                # for the non-ALL scenarios, run only if we DO NOT have _inc_enc\n",
    "                if scenario != 'ALL' and (\"_inc_enc\" in xvar_subset_code): continue\n",
    "\n",
    "                xvar_subset = xvar_subsets[xvar_subset_code]\n",
    "                X = Xy_sub[xvar_subset]\n",
    "                y = Xy_sub[target]\n",
    "                print(f'Scenario {scenario}, xvar code {xvar_subset_code} xvars {xvar_subset}, target {target}')\n",
    "                print(\"\")\n",
    "\n",
    "\n",
    "                models = [\n",
    "                    ElasticNet,\n",
    "                    RandomForestRegressor,\n",
    "                    PySRRegressor,\n",
    "\n",
    "                    # would be nice to have several more eg:\n",
    "                    # FFXRegressor,\n",
    "                    # PyOperon,\n",
    "                    # my custom SR implementation\n",
    "                    # NN\n",
    "                ]\n",
    "\n",
    "\n",
    "                models = [m() for m in models]\n",
    "\n",
    "                for m in models:\n",
    "                    n = m.__class__.__name__\n",
    "                    print(n)\n",
    "                    scores = cross_validate(m, X, y, cv=cv,\n",
    "                                            return_train_score=True)\n",
    "                    # print(scores)\n",
    "                    \n",
    "                    \n",
    "                    for fold, (tr, ts) in enumerate(zip(scores['train_score'], scores['test_score'])):\n",
    "                        row = [target, scenario, xvar_subset_code, n, fold, tr, ts]\n",
    "\n",
    "                        results.append(row)\n",
    "    return results\n",
    "\n",
    "\n"
   ]
  },
  {
   "cell_type": "code",
   "execution_count": null,
   "metadata": {},
   "outputs": [],
   "source": [
    "# In this cell we have commented out crucial lines to avoid accidentally \n",
    "# starting a large (7-hour) job or over-writing the results file.\n",
    "cv = 5\n",
    "# results = run_everything(Xy, cv)\n",
    "results_cols = ['Target', 'Scenario', 'xvar_subset_code', 'Regression Model', 'Fold', 'Train Score', 'Test Score']\n",
    "results_df = pd.DataFrame(results, columns=results_cols)\n",
    "results_df['Scenario / Variables'] = results_df['Scenario'] + ' / ' + results_df['xvar_subset_code']\n",
    "# results_df.to_csv(f'../outputs/results_cv5_EN_RF_2xGP.csv')"
   ]
  },
  {
   "cell_type": "markdown",
   "metadata": {},
   "source": [
    "Check that the results are the shape we expect:"
   ]
  },
  {
   "cell_type": "code",
   "execution_count": null,
   "metadata": {},
   "outputs": [
    {
     "data": {
      "text/html": [
       "<div>\n",
       "<style scoped>\n",
       "    .dataframe tbody tr th:only-of-type {\n",
       "        vertical-align: middle;\n",
       "    }\n",
       "\n",
       "    .dataframe tbody tr th {\n",
       "        vertical-align: top;\n",
       "    }\n",
       "\n",
       "    .dataframe thead th {\n",
       "        text-align: right;\n",
       "    }\n",
       "</style>\n",
       "<table border=\"1\" class=\"dataframe\">\n",
       "  <thead>\n",
       "    <tr style=\"text-align: right;\">\n",
       "      <th></th>\n",
       "      <th>Target</th>\n",
       "      <th>Scenario</th>\n",
       "      <th>xvar_subset_code</th>\n",
       "      <th>Regression Model</th>\n",
       "      <th>Fold</th>\n",
       "      <th>Train Score</th>\n",
       "      <th>Test Score</th>\n",
       "      <th>Scenario / Variables</th>\n",
       "    </tr>\n",
       "  </thead>\n",
       "  <tbody>\n",
       "    <tr>\n",
       "      <th>0</th>\n",
       "      <td>GSupply</td>\n",
       "      <td>BASE_SSP2</td>\n",
       "      <td>small</td>\n",
       "      <td>ElasticNet</td>\n",
       "      <td>0</td>\n",
       "      <td>0.0</td>\n",
       "      <td>-0.008338</td>\n",
       "      <td>BASE_SSP2 / small</td>\n",
       "    </tr>\n",
       "    <tr>\n",
       "      <th>1</th>\n",
       "      <td>GSupply</td>\n",
       "      <td>BASE_SSP2</td>\n",
       "      <td>small</td>\n",
       "      <td>ElasticNet</td>\n",
       "      <td>1</td>\n",
       "      <td>0.0</td>\n",
       "      <td>-0.000273</td>\n",
       "      <td>BASE_SSP2 / small</td>\n",
       "    </tr>\n",
       "    <tr>\n",
       "      <th>2</th>\n",
       "      <td>GSupply</td>\n",
       "      <td>BASE_SSP2</td>\n",
       "      <td>small</td>\n",
       "      <td>ElasticNet</td>\n",
       "      <td>2</td>\n",
       "      <td>0.0</td>\n",
       "      <td>-0.000230</td>\n",
       "      <td>BASE_SSP2 / small</td>\n",
       "    </tr>\n",
       "    <tr>\n",
       "      <th>3</th>\n",
       "      <td>GSupply</td>\n",
       "      <td>BASE_SSP2</td>\n",
       "      <td>small</td>\n",
       "      <td>ElasticNet</td>\n",
       "      <td>3</td>\n",
       "      <td>0.0</td>\n",
       "      <td>-0.000002</td>\n",
       "      <td>BASE_SSP2 / small</td>\n",
       "    </tr>\n",
       "    <tr>\n",
       "      <th>4</th>\n",
       "      <td>GSupply</td>\n",
       "      <td>BASE_SSP2</td>\n",
       "      <td>small</td>\n",
       "      <td>ElasticNet</td>\n",
       "      <td>4</td>\n",
       "      <td>0.0</td>\n",
       "      <td>-0.006142</td>\n",
       "      <td>BASE_SSP2 / small</td>\n",
       "    </tr>\n",
       "  </tbody>\n",
       "</table>\n",
       "</div>"
      ],
      "text/plain": [
       "    Target   Scenario xvar_subset_code Regression Model  Fold  Train Score  \\\n",
       "0  GSupply  BASE_SSP2            small       ElasticNet     0          0.0   \n",
       "1  GSupply  BASE_SSP2            small       ElasticNet     1          0.0   \n",
       "2  GSupply  BASE_SSP2            small       ElasticNet     2          0.0   \n",
       "3  GSupply  BASE_SSP2            small       ElasticNet     3          0.0   \n",
       "4  GSupply  BASE_SSP2            small       ElasticNet     4          0.0   \n",
       "\n",
       "   Test Score Scenario / Variables  \n",
       "0   -0.008338    BASE_SSP2 / small  \n",
       "1   -0.000273    BASE_SSP2 / small  \n",
       "2   -0.000230    BASE_SSP2 / small  \n",
       "3   -0.000002    BASE_SSP2 / small  \n",
       "4   -0.006142    BASE_SSP2 / small  "
      ]
     },
     "metadata": {},
     "output_type": "display_data"
    }
   ],
   "source": [
    "results_df.head()"
   ]
  },
  {
   "cell_type": "code",
   "execution_count": 23,
   "metadata": {},
   "outputs": [
    {
     "data": {
      "text/plain": [
       "(800, 8)"
      ]
     },
     "execution_count": 23,
     "metadata": {},
     "output_type": "execute_result"
    }
   ],
   "source": [
    "results_df.shape"
   ]
  },
  {
   "cell_type": "code",
   "execution_count": 25,
   "metadata": {},
   "outputs": [
    {
     "data": {
      "text/plain": [
       "800"
      ]
     },
     "execution_count": 25,
     "metadata": {},
     "output_type": "execute_result"
    }
   ],
   "source": [
    "5 * 4 * 2 * 4 * 5 # 5 scenarios (incl ALL), 4 targets, 2 xvar subsets (variant in the case of ALL), 4 regression methods, 5 cv folds"
   ]
  },
  {
   "cell_type": "markdown",
   "metadata": {},
   "source": [
    "# Statistics"
   ]
  },
  {
   "cell_type": "code",
   "execution_count": 36,
   "metadata": {},
   "outputs": [],
   "source": [
    "from scipy.stats import ttest_ind"
   ]
  },
  {
   "cell_type": "code",
   "execution_count": 44,
   "metadata": {},
   "outputs": [
    {
     "name": "stdout",
     "output_type": "stream",
     "text": [
      "ElasticNet mean 0.51 std 0.3\n",
      "ElasticNet RandomForestRegressor TtestResult(statistic=-8.251315711729259, pvalue=4.212561234070563e-15, df=318.0)\n",
      "ElasticNet PySRRegressor TtestResult(statistic=-7.018772768057609, pvalue=1.3575667968303239e-11, df=318.0)\n",
      "RandomForestRegressor mean 0.81 std 0.3\n",
      "RandomForestRegressor ElasticNet TtestResult(statistic=8.251315711729259, pvalue=4.212561234070563e-15, df=318.0)\n",
      "RandomForestRegressor PySRRegressor TtestResult(statistic=1.4100291876301483, pvalue=0.1595083804505702, df=318.0)\n",
      "PySRRegressor mean 0.76 std 0.3\n",
      "PySRRegressor ElasticNet TtestResult(statistic=7.018772768057609, pvalue=1.3575667968303239e-11, df=318.0)\n",
      "PySRRegressor RandomForestRegressor TtestResult(statistic=-1.4100291876301483, pvalue=0.1595083804505702, df=318.0)\n"
     ]
    }
   ],
   "source": [
    "models = ['ElasticNet', 'RandomForestRegressor', 'PySRRegressor']\n",
    "for model in models:\n",
    "    sub = results_df[(results_df['Regression Model'] == model) & (results_df['Scenario'] != 'ALL')]['Test Score']\n",
    "    print(f'{model} mean {sub.mean():.2f} std {sub.std():.1f}')\n",
    "    for model2 in models:\n",
    "        if model2 != model:\n",
    "            sub2 = results_df[(results_df['Regression Model'] == model2) & (results_df['Scenario'] != 'ALL')]['Test Score']\n",
    "            print(f'{model} {model2} {ttest_ind(sub, sub2)}')"
   ]
  },
  {
   "cell_type": "code",
   "execution_count": 47,
   "metadata": {},
   "outputs": [
    {
     "name": "stdout",
     "output_type": "stream",
     "text": [
      "ElasticNet small 0.51 v all 0.51: TtestResult(statistic=-0.03135010152697938, pvalue=0.9750299013596737, df=158.0)\n",
      "RandomForestRegressor small 0.66 v all 0.96: TtestResult(statistic=-6.945280474467563, pvalue=9.287513693804926e-11, df=158.0)\n",
      "PySRRegressor small 0.61 v all 0.92: TtestResult(statistic=-7.571564704248012, pvalue=2.890533956268977e-12, df=158.0)\n"
     ]
    }
   ],
   "source": [
    "for model in models:\n",
    "    sub1 = results_df[(results_df['Regression Model'] == model) & (results_df['xvar_subset_code'] == 'small')]['Test Score']\n",
    "    sub2 = results_df[(results_df['Regression Model'] == model) & (results_df['xvar_subset_code'] == 'all')]['Test Score']\n",
    "    print(f'{model} small {sub1.mean():.2f} v all {sub2.mean():.2f}: {ttest_ind(sub1, sub2)}')"
   ]
  },
  {
   "cell_type": "code",
   "execution_count": 31,
   "metadata": {},
   "outputs": [],
   "source": [
    "# plot the individual scenario regression results\n",
    "for target in targets:\n",
    "\n",
    "    # we exclude GPAFSRegressor for now\n",
    "    tmp = results_df[(results_df['Target'] == target) & (results_df['Regression Model'] != 'GPAFSRegressor') \n",
    "                     & (results_df['Scenario'] != 'ALL')]\n",
    "\n",
    "    sns.stripplot(tmp, x='Scenario / Variables', y='Train Score', hue='Regression Model');\n",
    "    plt.xticks(rotation=45, ha='right')\n",
    "    plt.ylabel(f'Train $R^2$ on {target}')\n",
    "    plt.tight_layout()\n",
    "    plt.savefig(f'../outputs/results_boxplot_cv5_{target}_train.pdf')\n",
    "    plt.close()\n",
    "\n",
    "    sns.stripplot(tmp, x='Scenario / Variables', y='Test Score', hue='Regression Model');\n",
    "    plt.xticks(rotation=45, ha='right')\n",
    "    plt.ylabel(f'Test $R^2$ on {target}')\n",
    "    plt.tight_layout()\n",
    "    plt.savefig(f'../outputs/results_boxplot_cv5_{target}_test.pdf')\n",
    "    plt.close()\n"
   ]
  },
  {
   "cell_type": "code",
   "execution_count": 32,
   "metadata": {},
   "outputs": [],
   "source": [
    "# plot the *unified* scenario regression results\n",
    "for target in targets:\n",
    "\n",
    "    # we exclude GPAFSRegressor for now\n",
    "    tmp = results_df[(results_df['Target'] == target) & (results_df['Regression Model'] != 'GPAFSRegressor')\n",
    "                     & (results_df['Scenario'] == 'ALL')]\n",
    "\n",
    "    sns.stripplot(tmp, x='Scenario / Variables', y='Train Score', hue='Regression Model');\n",
    "    plt.xticks(rotation=45, ha='right')\n",
    "    plt.ylabel(f'Train $R^2$ on {target}')\n",
    "    plt.tight_layout()\n",
    "    plt.savefig(f'../outputs/results_boxplot_cv5_{target}_unified_scenarios_train.pdf')\n",
    "    plt.close()\n",
    "\n",
    "    sns.stripplot(tmp, x='Scenario / Variables', y='Test Score', hue='Regression Model');\n",
    "    plt.xticks(rotation=45, ha='right')\n",
    "    plt.ylabel(f'Test $R^2$ on {target}')\n",
    "    plt.tight_layout()\n",
    "    plt.savefig(f'../outputs/results_boxplot_cv5_{target}_unified_scenarios_test.pdf')\n",
    "    plt.close()\n"
   ]
  },
  {
   "cell_type": "markdown",
   "metadata": {},
   "source": [
    "# Interpretation of models\n",
    "\n",
    "## Variable importance and equation interpretation\n",
    "\n",
    "In this section, we'll use a single train-test split and do a single run (per scenerio) for each of EN, RF, and SR\n",
    "as our goal will not be a comparison of performance but an investigation of variable importance.\n",
    "\n",
    "We include each scenario and all variables, not including the scenario-encoding variables.\n",
    "\n",
    "RF gives variable importance directly.\n",
    "\n",
    "EN does not, but we use abs(coefficient_i) * std(x_i)\n",
    "\n",
    "SR we'll just store the equations together with their loss and complexity values."
   ]
  },
  {
   "cell_type": "code",
   "execution_count": null,
   "metadata": {},
   "outputs": [],
   "source": [
    "scenarios = ['BASE_SSP2', '1p5c_OS_SSP2', '2C_SSP2', '2C_SSP2_DA30']\n",
    "\n",
    "import sympy_latex\n",
    "\n",
    "for scenario in scenarios:\n",
    "    Xy_tmp = Xy[Xy['Scenario'] == scenario]\n",
    "    X = Xy_tmp[xvar_subsets['all']]\n",
    "    for target in targets:\n",
    "        y = Xy_tmp[target]\n",
    "        X_train, X_test, y_train, y_test = train_test_split(X, y, test_size=0.2, random_state=1)\n",
    "\n",
    "        for m in [#RandomForestRegressor(), \n",
    "                  #ElasticNet(), \n",
    "                  PySRRegressor(), \n",
    "                  #GPAFSRegressor(20000, 4000, 0.5, 30, 5, \"symbolic_regression.bnf\", 0.3)]:\n",
    "        ]:\n",
    "\n",
    "            #m.fit(X_train, y_train)\n",
    "            #m.score(X_test, y_test)\n",
    "\n",
    "            if m.__class__.__name__ == 'RandomForestRegressor':\n",
    "                # importance is given directly by the method\n",
    "                imps = list(zip(m.feature_names_in_, m.feature_importances_))\n",
    "                imps.sort(key=lambda x: x[1], reverse=True)\n",
    "                imps = pd.DataFrame(imps, columns=['Feature', 'Importance'])\n",
    "                # print, write importances to csv and to tex\n",
    "                print(imps)\n",
    "                imps.to_csv(f'../outputs/importances_rf_{scenario}_{target}_clim_sens_filter_sqrt.csv')\n",
    "                imps['Feature'] = imps['Feature'].str.replace('_', ' ')\n",
    "                imps.to_latex(f'../outputs/importances_rf_{scenario}_{target}_clim_sens_filter_sqrt.tex', index=False)     \n",
    "            elif m.__class__.__name__ == 'ElasticNet':\n",
    "                # importance is abs(coef) * std deviation of the var\n",
    "                X_std = X_train.std(axis=0)\n",
    "                imps = np.abs(m.coef_) * X_std\n",
    "                imps = list(zip(m.feature_names_in_, imps))\n",
    "                imps.sort(key=lambda x: x[1], reverse=True)\n",
    "                imps = pd.DataFrame(imps, columns=['Feature', 'Importance'])\n",
    "                # print, write importances to csv and to tex\n",
    "                print(imps)\n",
    "                imps.to_csv(f'../outputs/importances_en_{scenario}_{target}_clim_sens_filter_sqrt.csv')\n",
    "                imps['Feature'] = imps['Feature'].str.replace('_', ' ')\n",
    "                imps.to_latex(f'../outputs/importances_en_{scenario}_{target}_clim_sens_filter_sqrt.tex', index=False)\n",
    "            elif m.__class__.__name__ == 'PySRRegressor' or m.__class__.__name__ == 'GPAFSRegressor':\n",
    "\n",
    "                if m.__class__.__name__ == 'PySRRegressor': method = 'sr'\n",
    "                if m.__class__.__name__ == 'GPAFSRegressor': method = 'magpie'\n",
    "\n",
    "                # print, write original equations to csv\n",
    "                #print(m.equations_)\n",
    "                #m.equations_.to_csv(f'../outputs/equations_{method}_{scenario}_{target}_clim_sens_filter_sqrt.csv')\n",
    "                # eqns = m.equations_\n",
    "\n",
    "                eqns = pd.read_csv(f'../outputs/equations_{method}_{scenario}_{target}_clim_sens_filter_sqrt.csv')\n",
    "\n",
    "                # write to latex table, but process first, and only useful columns\n",
    "                eqns = sympy_latex.process_equations_latex(eqns)\n",
    "                eqns = eqns[['vars', 'consts', 'complexity', 'loss', 'equation']]\n",
    "                #eqns['equation'] = eqns['equation'].str.replace('_', ' ')\n",
    "                eqns.to_latex(f'../outputs/equations_{method}_{scenario}_{target}_3cols_clim_sens_filter_sqrt.tex', index=False)\n"
   ]
  }
 ],
 "metadata": {
  "kernelspec": {
   "display_name": "base",
   "language": "python",
   "name": "python3"
  },
  "language_info": {
   "codemirror_mode": {
    "name": "ipython",
    "version": 3
   },
   "file_extension": ".py",
   "mimetype": "text/x-python",
   "name": "python",
   "nbconvert_exporter": "python",
   "pygments_lexer": "ipython3",
   "version": "3.11.7"
  }
 },
 "nbformat": 4,
 "nbformat_minor": 2
}
